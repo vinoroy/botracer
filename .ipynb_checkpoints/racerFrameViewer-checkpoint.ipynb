{
 "cells": [
  {
   "cell_type": "code",
   "execution_count": 1,
   "metadata": {},
   "outputs": [],
   "source": [
    "import numpy as np\n",
    "\n",
    "\n",
    "import ipywidgets as widgets\n",
    "from ipywidgets import HBox\n",
    "from IPython.display import display\n",
    "\n",
    "import matplotlib.pyplot as plt\n",
    "import matplotlib.image as mpimg\n",
    "import cv2\n",
    "\n",
    "import time\n"
   ]
  },
  {
   "cell_type": "code",
   "execution_count": 2,
   "metadata": {},
   "outputs": [
    {
     "data": {
      "text/plain": [
       "(550, 20, 224, 3)"
      ]
     },
     "execution_count": 2,
     "metadata": {},
     "output_type": "execute_result"
    }
   ],
   "source": [
    "images = np.load('trackTrainImages.npy')\n",
    "pos = np.load('trackPos.npy')\n",
    "\n",
    "\n",
    "images.shape"
   ]
  },
  {
   "cell_type": "code",
   "execution_count": 3,
   "metadata": {},
   "outputs": [
    {
     "data": {
      "text/plain": [
       "(550,)"
      ]
     },
     "execution_count": 3,
     "metadata": {},
     "output_type": "execute_result"
    }
   ],
   "source": [
    "pos.shape"
   ]
  },
  {
   "cell_type": "code",
   "execution_count": 4,
   "metadata": {},
   "outputs": [],
   "source": [
    "is_success, im_buf_arr = cv2.imencode(\".jpg\", images[0])\n",
    "byte_im = im_buf_arr.tobytes()"
   ]
  },
  {
   "cell_type": "code",
   "execution_count": 5,
   "metadata": {},
   "outputs": [
    {
     "data": {
      "application/vnd.jupyter.widget-view+json": {
       "model_id": "863e4c40fd8746a29043e56452d7b5c8",
       "version_major": 2,
       "version_minor": 0
      },
      "text/plain": [
       "HBox(children=(Image(value=b'\\xff\\xd8\\xff\\xe0\\x00\\x10JFIF\\x00\\x01\\x01\\x00\\x00\\x01\\x00\\x01\\x00\\x00\\xff\\xdb\\x00C…"
      ]
     },
     "metadata": {},
     "output_type": "display_data"
    }
   ],
   "source": [
    "startButton = widgets.Button(\n",
    "                    description='Start',\n",
    "                    disabled=False,\n",
    "                    button_style='', \n",
    "                    tooltip='Start',\n",
    "                    icon='check' \n",
    "                )\n",
    "\n",
    "\n",
    "# create the image display widget\n",
    "imgDisp = widgets.Image(\n",
    "            value=byte_im,\n",
    "            format='png',\n",
    "            width=300,\n",
    "            height=400,\n",
    "        )\n",
    "\n",
    "# create the output widget for text message\n",
    "output = widgets.Output()\n",
    "\n",
    "\n",
    "d = HBox([imgDisp, output, startButton])\n",
    "\n",
    "\n",
    "# display to the screen the widgets\n",
    "display(d)\n",
    "\n",
    "\n",
    "def on_button_clicked(b):\n",
    "    \n",
    "        for i in range(len(images)):\n",
    "        \n",
    "            is_success, im_buf_arr = cv2.imencode(\".jpg\", images[i])\n",
    "            byte_im = im_buf_arr.tobytes()\n",
    "\n",
    "            imgDisp.value = byte_im\n",
    "            \n",
    "            with output:\n",
    "                \n",
    "                output.clear_output()\n",
    "                print(str(pos[i]))\n",
    "\n",
    "            time.sleep(0.05)\n",
    "\n",
    "\n",
    "startButton.on_click(on_button_clicked)"
   ]
  },
  {
   "cell_type": "code",
   "execution_count": null,
   "metadata": {},
   "outputs": [],
   "source": []
  }
 ],
 "metadata": {
  "kernelspec": {
   "display_name": "Python 3",
   "language": "python",
   "name": "python3"
  },
  "language_info": {
   "codemirror_mode": {
    "name": "ipython",
    "version": 3
   },
   "file_extension": ".py",
   "mimetype": "text/x-python",
   "name": "python",
   "nbconvert_exporter": "python",
   "pygments_lexer": "ipython3",
   "version": "3.7.5"
  }
 },
 "nbformat": 4,
 "nbformat_minor": 2
}
