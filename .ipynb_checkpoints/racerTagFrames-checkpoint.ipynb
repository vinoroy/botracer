{
 "cells": [
  {
   "cell_type": "code",
   "execution_count": 91,
   "metadata": {},
   "outputs": [],
   "source": [
    "import numpy as np\n",
    "\n",
    "import ipywidgets as widgets\n",
    "from ipywidgets import HBox\n",
    "from IPython.display import display\n",
    "from ipywidgets import Button, Layout\n",
    "from ipywidgets import IntSlider\n",
    "from ipywidgets import HBox, VBox\n",
    "\n",
    "IntSlider(description='A too long description')\n",
    "\n",
    "\n",
    "\n",
    "import matplotlib.pyplot as plt\n",
    "import matplotlib.image as mpimg\n",
    "import cv2\n",
    "\n",
    "import time"
   ]
  },
  {
   "cell_type": "code",
   "execution_count": 92,
   "metadata": {},
   "outputs": [
    {
     "data": {
      "text/plain": [
       "(600, 224, 224, 3)"
      ]
     },
     "execution_count": 92,
     "metadata": {},
     "output_type": "execute_result"
    }
   ],
   "source": [
    "images = np.load('trackImages.npy')\n",
    "images.shape"
   ]
  },
  {
   "cell_type": "code",
   "execution_count": 93,
   "metadata": {},
   "outputs": [
    {
     "data": {
      "text/plain": [
       "(550, 224, 224, 3)"
      ]
     },
     "execution_count": 93,
     "metadata": {},
     "output_type": "execute_result"
    }
   ],
   "source": [
    "excLst = list(range(250, 300))\n",
    "images = np.delete(images, excLst, axis=0)\n",
    "images.shape"
   ]
  },
  {
   "cell_type": "code",
   "execution_count": 94,
   "metadata": {},
   "outputs": [
    {
     "data": {
      "image/png": "[encoded data removed]",
      "text/plain": [
       "<Figure size 432x288 with 1 Axes>"
      ]
     },
     "metadata": {
      "needs_background": "light"
     },
     "output_type": "display_data"
    }
   ],
   "source": [
    "imgplot = plt.imshow(images[1][150:170])"
   ]
  },
  {
   "cell_type": "code",
   "execution_count": 95,
   "metadata": {},
   "outputs": [],
   "source": [
    "is_success, im_buf_arr = cv2.imencode(\".jpg\", images[0][150:170])\n",
    "byte_im = im_buf_arr.tobytes()"
   ]
  },
  {
   "cell_type": "code",
   "execution_count": null,
   "metadata": {},
   "outputs": [],
   "source": [
    "trackPositions = []"
   ]
  },
  {
   "cell_type": "code",
   "execution_count": 114,
   "metadata": {},
   "outputs": [
    {
     "data": {
      "application/vnd.jupyter.widget-view+json": {
       "model_id": "d64c4615202b4c138414b4515415223a",
       "version_major": 2,
       "version_minor": 0
      },
      "text/plain": [
       "HBox(children=(Image(value=b'\\xff\\xd8\\xff\\xe0\\x00\\x10JFIF\\x00\\x01\\x01\\x00\\x00\\x01\\x00\\x01\\x00\\x00\\xff\\xdb\\x00C…"
      ]
     },
     "metadata": {},
     "output_type": "display_data"
    },
    {
     "data": {
      "application/vnd.jupyter.widget-view+json": {
       "model_id": "69a25ee98fa742aa97de61a7f2e6ffd0",
       "version_major": 2,
       "version_minor": 0
      },
      "text/plain": [
       "FloatSlider(value=7.5, continuous_update=False, layout=Layout(width='380px'), max=225.0, readout_format='.1f')"
      ]
     },
     "metadata": {},
     "output_type": "display_data"
    },
    {
     "data": {
      "application/vnd.jupyter.widget-view+json": {
       "model_id": "83ac0aedc20e4774b582ac6b3496c772",
       "version_major": 2,
       "version_minor": 0
      },
      "text/plain": [
       "Output()"
      ]
     },
     "metadata": {},
     "output_type": "display_data"
    },
    {
     "ename": "IndexError",
     "evalue": "index 550 is out of bounds for axis 0 with size 550",
     "output_type": "error",
     "traceback": [
      "\u001b[0;31m---------------------------------------------------------------------------\u001b[0m",
      "\u001b[0;31mIndexError\u001b[0m                                Traceback (most recent call last)",
      "\u001b[0;32m<ipython-input-114-300d81c56c01>\u001b[0m in \u001b[0;36mon_button_clicked\u001b[0;34m(b)\u001b[0m\n\u001b[1;32m     68\u001b[0m \u001b[0;32mdef\u001b[0m \u001b[0mon_button_clicked\u001b[0m\u001b[0;34m(\u001b[0m\u001b[0mb\u001b[0m\u001b[0;34m)\u001b[0m\u001b[0;34m:\u001b[0m\u001b[0;34m\u001b[0m\u001b[0;34m\u001b[0m\u001b[0m\n\u001b[1;32m     69\u001b[0m \u001b[0;34m\u001b[0m\u001b[0m\n\u001b[0;32m---> 70\u001b[0;31m     \u001b[0mis_success\u001b[0m\u001b[0;34m,\u001b[0m \u001b[0mim_buf_arr\u001b[0m \u001b[0;34m=\u001b[0m \u001b[0mcv2\u001b[0m\u001b[0;34m.\u001b[0m\u001b[0mimencode\u001b[0m\u001b[0;34m(\u001b[0m\u001b[0;34m\".jpg\"\u001b[0m\u001b[0;34m,\u001b[0m \u001b[0mimages\u001b[0m\u001b[0;34m[\u001b[0m\u001b[0mcurImage\u001b[0m\u001b[0;34m.\u001b[0m\u001b[0mpos\u001b[0m\u001b[0;34m]\u001b[0m\u001b[0;34m[\u001b[0m\u001b[0;36m150\u001b[0m\u001b[0;34m:\u001b[0m\u001b[0;36m170\u001b[0m\u001b[0;34m]\u001b[0m\u001b[0;34m)\u001b[0m\u001b[0;34m\u001b[0m\u001b[0;34m\u001b[0m\u001b[0m\n\u001b[0m\u001b[1;32m     71\u001b[0m     \u001b[0mbyte_im\u001b[0m \u001b[0;34m=\u001b[0m \u001b[0mim_buf_arr\u001b[0m\u001b[0;34m.\u001b[0m\u001b[0mtobytes\u001b[0m\u001b[0;34m(\u001b[0m\u001b[0;34m)\u001b[0m\u001b[0;34m\u001b[0m\u001b[0;34m\u001b[0m\u001b[0m\n\u001b[1;32m     72\u001b[0m \u001b[0;34m\u001b[0m\u001b[0m\n",
      "\u001b[0;31mIndexError\u001b[0m: index 550 is out of bounds for axis 0 with size 550"
     ]
    },
    {
     "ename": "IndexError",
     "evalue": "index 550 is out of bounds for axis 0 with size 550",
     "output_type": "error",
     "traceback": [
      "\u001b[0;31m---------------------------------------------------------------------------\u001b[0m",
      "\u001b[0;31mIndexError\u001b[0m                                Traceback (most recent call last)",
      "\u001b[0;32m<ipython-input-114-300d81c56c01>\u001b[0m in \u001b[0;36mon_button_clicked\u001b[0;34m(b)\u001b[0m\n\u001b[1;32m     68\u001b[0m \u001b[0;32mdef\u001b[0m \u001b[0mon_button_clicked\u001b[0m\u001b[0;34m(\u001b[0m\u001b[0mb\u001b[0m\u001b[0;34m)\u001b[0m\u001b[0;34m:\u001b[0m\u001b[0;34m\u001b[0m\u001b[0;34m\u001b[0m\u001b[0m\n\u001b[1;32m     69\u001b[0m \u001b[0;34m\u001b[0m\u001b[0m\n\u001b[0;32m---> 70\u001b[0;31m     \u001b[0mis_success\u001b[0m\u001b[0;34m,\u001b[0m \u001b[0mim_buf_arr\u001b[0m \u001b[0;34m=\u001b[0m \u001b[0mcv2\u001b[0m\u001b[0;34m.\u001b[0m\u001b[0mimencode\u001b[0m\u001b[0;34m(\u001b[0m\u001b[0;34m\".jpg\"\u001b[0m\u001b[0;34m,\u001b[0m \u001b[0mimages\u001b[0m\u001b[0;34m[\u001b[0m\u001b[0mcurImage\u001b[0m\u001b[0;34m.\u001b[0m\u001b[0mpos\u001b[0m\u001b[0;34m]\u001b[0m\u001b[0;34m[\u001b[0m\u001b[0;36m150\u001b[0m\u001b[0;34m:\u001b[0m\u001b[0;36m170\u001b[0m\u001b[0;34m]\u001b[0m\u001b[0;34m)\u001b[0m\u001b[0;34m\u001b[0m\u001b[0;34m\u001b[0m\u001b[0m\n\u001b[0m\u001b[1;32m     71\u001b[0m     \u001b[0mbyte_im\u001b[0m \u001b[0;34m=\u001b[0m \u001b[0mim_buf_arr\u001b[0m\u001b[0;34m.\u001b[0m\u001b[0mtobytes\u001b[0m\u001b[0;34m(\u001b[0m\u001b[0;34m)\u001b[0m\u001b[0;34m\u001b[0m\u001b[0;34m\u001b[0m\u001b[0m\n\u001b[1;32m     72\u001b[0m \u001b[0;34m\u001b[0m\u001b[0m\n",
      "\u001b[0;31mIndexError\u001b[0m: index 550 is out of bounds for axis 0 with size 550"
     ]
    }
   ],
   "source": [
    "nextButton = widgets.Button(\n",
    "                    description='Next',\n",
    "                    disabled=False,\n",
    "                    button_style='', # 'success', 'info', 'warning', 'danger' or ''\n",
    "                    tooltip='Next',\n",
    "                    icon='check' # (FontAwesome names without the `fa-` prefix)\n",
    "                )\n",
    "\n",
    "# create the image display widget\n",
    "imgDisp = widgets.Image(\n",
    "            value=byte_im,\n",
    "            format='png',\n",
    "            width=300,\n",
    "            height=400,\n",
    "        )\n",
    "\n",
    "track = widgets.FloatSlider(\n",
    "    value=7.5,\n",
    "    min=0,\n",
    "    max=225,\n",
    "    step=0.1,\n",
    "    description='',\n",
    "    disabled=False,\n",
    "    continuous_update=False,\n",
    "    orientation='horizontal',\n",
    "    readout=True,\n",
    "    readout_format='.1f',\n",
    "    layout=Layout(width='380px')\n",
    ")\n",
    "\n",
    "# create the output widget for text message\n",
    "output = widgets.Output()\n",
    "output2 = widgets.Output()\n",
    "\n",
    "d = HBox([imgDisp, output, nextButton])\n",
    "\n",
    "# display to the screen the widgets\n",
    "display(d, track, output2)\n",
    "\n",
    "class CurImage():\n",
    "    \n",
    "    def __init__(self):\n",
    "        \n",
    "        self.pos = 0\n",
    "        \n",
    "    def update(self):\n",
    "        \n",
    "        self.pos = self.pos + 1\n",
    "        \n",
    "        \n",
    "curImage = CurImage()\n",
    "\n",
    "\n",
    "class TrackPos():\n",
    "    \n",
    "    def __init__(self):\n",
    "        \n",
    "        self.pos = []\n",
    "        \n",
    "    def update(self,pos):\n",
    "        \n",
    "        self.pos.append(pos)\n",
    "        \n",
    "        \n",
    "trackPositions = TrackPos()\n",
    "\n",
    "\n",
    "def on_button_clicked(b):\n",
    "     \n",
    "    is_success, im_buf_arr = cv2.imencode(\".jpg\", images[curImage.pos][150:170])\n",
    "    byte_im = im_buf_arr.tobytes()\n",
    "\n",
    "    imgDisp.value = byte_im\n",
    "\n",
    "    curImage.update()\n",
    "\n",
    "    with output :\n",
    "\n",
    "        output.clear_output()\n",
    "        print(curImage.pos)\n",
    "\n",
    "\n",
    "    trackPositions.update(track.value)\n",
    "\n",
    "\n",
    "    with output2:\n",
    "\n",
    "        output2.clear_output()\n",
    "\n",
    "        print(str(track.value))\n",
    "        \n",
    "        \n",
    "                  \n",
    "def on_value_change(change):\n",
    "    \n",
    "        \n",
    "    sliderPos = int(change['new'])\n",
    "\n",
    "    is_success, im_buf_arr = cv2.imencode(\".jpg\", images[curImage.pos][150:170])\n",
    "    byte_im = im_buf_arr.tobytes()\n",
    "\n",
    "    imgDisp.value = byte_im\n",
    "\n",
    "    curImage.update()\n",
    "\n",
    "    with output:\n",
    "\n",
    "        output.clear_output()\n",
    "        print(curImage.pos)\n",
    "\n",
    "    trackPositions.update(sliderPos)\n",
    "\n",
    "    with output2:\n",
    "\n",
    "        output2.clear_output()\n",
    "        print(str(sliderPos))\n",
    "\n",
    "    \n",
    "nextButton.on_click(on_button_clicked)\n",
    "track.observe(on_value_change, names='value')"
   ]
  },
  {
   "cell_type": "code",
   "execution_count": 125,
   "metadata": {},
   "outputs": [
    {
     "data": {
      "text/plain": [
       "550"
      ]
     },
     "execution_count": 125,
     "metadata": {},
     "output_type": "execute_result"
    }
   ],
   "source": [
    "len(trackPositions.pos)"
   ]
  },
  {
   "cell_type": "code",
   "execution_count": 126,
   "metadata": {},
   "outputs": [],
   "source": [
    "tracksArr = np.array(trackPositions.pos)\n",
    "np.save('./trackPos.npy', tracksArr)"
   ]
  },
  {
   "cell_type": "code",
   "execution_count": 127,
   "metadata": {},
   "outputs": [],
   "source": [
    "np.save('./trackTrainImages.npy', images)"
   ]
  },
  {
   "cell_type": "code",
   "execution_count": null,
   "metadata": {},
   "outputs": [],
   "source": []
  }
 ],
 "metadata": {
  "kernelspec": {
   "display_name": "Python 3",
   "language": "python",
   "name": "python3"
  },
  "language_info": {
   "codemirror_mode": {
    "name": "ipython",
    "version": 3
   },
   "file_extension": ".py",
   "mimetype": "text/x-python",
   "name": "python",
   "nbconvert_exporter": "python",
   "pygments_lexer": "ipython3",
   "version": "3.7.5"
  }
 },
 "nbformat": 4,
 "nbformat_minor": 2
}
