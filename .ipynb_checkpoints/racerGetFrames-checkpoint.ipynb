{
 "cells": [
  {
   "cell_type": "code",
   "execution_count": 1,
   "metadata": {},
   "outputs": [],
   "source": [
    "import numpy as np\n",
    "\n",
    "import ipywidgets as widgets\n",
    "from ipywidgets import HBox\n",
    "from IPython.display import display\n",
    "\n",
    "import matplotlib.pyplot as plt\n",
    "import matplotlib.image as mpimg\n",
    "import cv2\n",
    "\n",
    "from jetcam.csi_camera import CSICamera\n",
    "\n",
    "import time"
   ]
  },
  {
   "cell_type": "code",
   "execution_count": 2,
   "metadata": {},
   "outputs": [],
   "source": [
    "# create the camera object\n",
    "camera = CSICamera(width=224, height=224, capture_width=1080, capture_height=720, capture_fps=30)"
   ]
  },
  {
   "cell_type": "code",
   "execution_count": 3,
   "metadata": {},
   "outputs": [],
   "source": [
    "imageList = []\n",
    "currentImg = None"
   ]
  },
  {
   "cell_type": "code",
   "execution_count": 4,
   "metadata": {},
   "outputs": [],
   "source": [
    "# read the camera and set to running. This will mean that we will only have to get the last value of the camera to get\n",
    "# the latest frame\n",
    "img = camera.read()\n",
    "camera.running = True\n",
    "\n",
    "# rotate the image and convert to butes for the display widget\n",
    "img = cv2.rotate(img, cv2.ROTATE_180)\n",
    "is_success, im_buf_arr = cv2.imencode(\".jpg\", img)\n",
    "img = im_buf_arr.tobytes()"
   ]
  },
  {
   "cell_type": "code",
   "execution_count": 5,
   "metadata": {},
   "outputs": [
    {
     "data": {
      "application/vnd.jupyter.widget-view+json": {
       "model_id": "ed505e778c5f4523ab0e472287d37dd5",
       "version_major": 2,
       "version_minor": 0
      },
      "text/plain": [
       "Button(description='Track', icon='check', style=ButtonStyle(), tooltip='Track')"
      ]
     },
     "metadata": {},
     "output_type": "display_data"
    },
    {
     "data": {
      "application/vnd.jupyter.widget-view+json": {
       "model_id": "583ece16b86445819b9c66368dc2dfe1",
       "version_major": 2,
       "version_minor": 0
      },
      "text/plain": [
       "Output()"
      ]
     },
     "metadata": {},
     "output_type": "display_data"
    },
    {
     "data": {
      "application/vnd.jupyter.widget-view+json": {
       "model_id": "feea2da97b404d4d840910b8160319c7",
       "version_major": 2,
       "version_minor": 0
      },
      "text/plain": [
       "Image(value=b'\\xff\\xd8\\xff\\xe0\\x00\\x10JFIF\\x00\\x01\\x01\\x00\\x00\\x01\\x00\\x01\\x00\\x00\\xff\\xdb\\x00C\\x00\\x02\\x01\\x0…"
      ]
     },
     "metadata": {},
     "output_type": "display_data"
    }
   ],
   "source": [
    "trackButton = widgets.Button(\n",
    "                    description='Track',\n",
    "                    disabled=False,\n",
    "                    button_style='', # 'success', 'info', 'warning', 'danger' or ''\n",
    "                    tooltip='Track',\n",
    "                    icon='check' # (FontAwesome names without the `fa-` prefix)\n",
    "                )\n",
    "\n",
    "# create the output widget for text message\n",
    "output = widgets.Output()\n",
    "\n",
    "# create the image display widget\n",
    "imgDisp = widgets.Image(\n",
    "            value=img,\n",
    "            format='png',\n",
    "            width=300,\n",
    "            height=400,\n",
    "        )\n",
    "\n",
    "# display to the screen the widgets\n",
    "display(trackButton, output, imgDisp)\n",
    "        \n",
    "        \n",
    "def on_button_clicked(b):\n",
    "    with output:\n",
    "        \n",
    "        for i in range(300):\n",
    "        \n",
    "            img = camera.value\n",
    "            img_rotate_180 = cv2.rotate(img, cv2.ROTATE_180)\n",
    "\n",
    "            currentImg = img_rotate_180\n",
    "\n",
    "            is_success, im_buf_arr = cv2.imencode(\".jpg\", img_rotate_180)\n",
    "            byte_im = im_buf_arr.tobytes()\n",
    "\n",
    "            output.clear_output()\n",
    "\n",
    "            print(\"Frame : \"+str(i))\n",
    "\n",
    "            imgDisp.value = byte_im\n",
    "\n",
    "            imageList.append(currentImg)\n",
    "    \n",
    "            time.sleep(0.1)\n",
    "\n",
    "        \n",
    "trackButton.on_click(on_button_clicked)\n"
   ]
  },
  {
   "cell_type": "code",
   "execution_count": 6,
   "metadata": {},
   "outputs": [
    {
     "data": {
      "application/vnd.jupyter.widget-view+json": {
       "model_id": "cf451cf2fcd9485db834065a990d2ce4",
       "version_major": 2,
       "version_minor": 0
      },
      "text/plain": [
       "Button(description='Export', icon='check', style=ButtonStyle(), tooltip='Export')"
      ]
     },
     "metadata": {},
     "output_type": "display_data"
    },
    {
     "data": {
      "application/vnd.jupyter.widget-view+json": {
       "model_id": "3e23642c78c741c6ba73065bbed8b20c",
       "version_major": 2,
       "version_minor": 0
      },
      "text/plain": [
       "Output()"
      ]
     },
     "metadata": {},
     "output_type": "display_data"
    }
   ],
   "source": [
    "exportButton = widgets.Button(\n",
    "                    description='Export',\n",
    "                    disabled=False,\n",
    "                    button_style='', # 'success', 'info', 'warning', 'danger' or ''\n",
    "                    tooltip='Export',\n",
    "                    icon='check' # (FontAwesome names without the `fa-` prefix)\n",
    "                )\n",
    "\n",
    "\n",
    "# create the output widget for text message\n",
    "output2 = widgets.Output()\n",
    "\n",
    "\n",
    "# display to the screen the widgets\n",
    "display(exportButton, output2)\n",
    "\n",
    "\n",
    "def on_export_clicked(b):\n",
    "    with output2:\n",
    "        \n",
    "        images = np.array(imageList)\n",
    "        \n",
    "        print('Exporting the data')\n",
    "        \n",
    "        \n",
    "        np.save('./trackImages.npy', images)\n",
    "       \n",
    "        \n",
    "        print('Finished exporting the data')\n",
    "\n",
    "        \n",
    "exportButton.on_click(on_export_clicked)"
   ]
  },
  {
   "cell_type": "code",
   "execution_count": null,
   "metadata": {},
   "outputs": [],
   "source": [
    "for i in range(len(imageList)):\n",
    "    \n",
    "    plt.figure()\n",
    "    imgplot = plt.imshow(imageList[i])\n",
    "    plt.axis('off')\n",
    "    plt.title(str(i))\n",
    "  "
   ]
  },
  {
   "cell_type": "code",
   "execution_count": null,
   "metadata": {},
   "outputs": [],
   "source": []
  },
  {
   "cell_type": "code",
   "execution_count": null,
   "metadata": {},
   "outputs": [],
   "source": []
  },
  {
   "cell_type": "code",
   "execution_count": null,
   "metadata": {},
   "outputs": [],
   "source": []
  }
 ],
 "metadata": {
  "kernelspec": {
   "display_name": "Python 3",
   "language": "python",
   "name": "python3"
  },
  "language_info": {
   "codemirror_mode": {
    "name": "ipython",
    "version": 3
   },
   "file_extension": ".py",
   "mimetype": "text/x-python",
   "name": "python",
   "nbconvert_exporter": "python",
   "pygments_lexer": "ipython3",
   "version": "3.7.5"
  }
 },
 "nbformat": 4,
 "nbformat_minor": 4
}
